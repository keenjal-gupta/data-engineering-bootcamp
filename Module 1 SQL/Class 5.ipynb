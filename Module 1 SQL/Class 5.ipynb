{
 "cells": [
  {
   "cell_type": "code",
   "execution_count": 0,
   "metadata": {
    "application/vnd.databricks.v1+cell": {
     "cellMetadata": {
      "byteLimit": 2048000,
      "rowLimit": 10000
     },
     "inputWidgets": {},
     "nuid": "935ec838-0d5e-4ca3-b0c5-567e5ee245c8",
     "showTitle": false,
     "tableResultSettingsMap": {},
     "title": ""
    }
   },
   "outputs": [],
   "source": [
    "select * from orders"
   ]
  },
  {
   "cell_type": "code",
   "execution_count": 0,
   "metadata": {
    "application/vnd.databricks.v1+cell": {
     "cellMetadata": {
      "byteLimit": 2048000,
      "rowLimit": 10000
     },
     "inputWidgets": {},
     "nuid": "1ad893f4-9b45-4903-a6bb-d56dbc413dee",
     "showTitle": false,
     "tableResultSettingsMap": {},
     "title": ""
    }
   },
   "outputs": [],
   "source": [
    "--Gives each row a same number based on the order_date.\n",
    "select order_id, order_date,\n",
    "row_number() over(partition by order_id order by order_date desc) as row_num\n",
    "from orders"
   ]
  },
  {
   "cell_type": "code",
   "execution_count": 0,
   "metadata": {
    "application/vnd.databricks.v1+cell": {
     "cellMetadata": {
      "byteLimit": 2048000,
      "rowLimit": 10000
     },
     "inputWidgets": {},
     "nuid": "147514fe-1d2b-4a5f-86a3-9f64d805b5e4",
     "showTitle": false,
     "tableResultSettingsMap": {},
     "title": ""
    }
   },
   "outputs": [],
   "source": [
    "--Gives each row a unique number based on the order_date.\n",
    "select order_id, order_date,\n",
    "row_number() over (order by order_date desc) as row_num\n",
    "from orders"
   ]
  },
  {
   "cell_type": "code",
   "execution_count": 0,
   "metadata": {
    "application/vnd.databricks.v1+cell": {
     "cellMetadata": {
      "byteLimit": 2048000,
      "rowLimit": 10000
     },
     "inputWidgets": {},
     "nuid": "7816b3c9-a887-4db4-ad22-6f075581b09e",
     "showTitle": false,
     "tableResultSettingsMap": {},
     "title": ""
    }
   },
   "outputs": [],
   "source": [
    "-- Real-Life Use Case: Show first product bought by each customer\n",
    "\n",
    "select \n",
    "c.first_name, od.product_name, od.order_id,\n",
    "row_number () over (partition by o.order_id order by o.order_date) as purchase_sequence\n",
    "from customers c\n",
    "join orders o on c.customer_id=o.customer_id\n",
    "join order_details od on o.order_id=od.order_id\n",
    "\n",
    "---The First order is that where purchase_sequence=1\n"
   ]
  },
  {
   "cell_type": "code",
   "execution_count": 0,
   "metadata": {
    "application/vnd.databricks.v1+cell": {
     "cellMetadata": {
      "byteLimit": 2048000,
      "rowLimit": 10000
     },
     "inputWidgets": {},
     "nuid": "17070aae-45cc-4b69-beaa-75ebb0c93d6b",
     "showTitle": false,
     "tableResultSettingsMap": {},
     "title": ""
    }
   },
   "outputs": [],
   "source": [
    "--RANK()\n",
    "--Ranks rows by quantity; ties get same rank, but gaps are left in the sequence.\n",
    "\n",
    "select product_name,quantity, \n",
    "rank() over (order by quantity desc) as Rank\n",
    "from order_details"
   ]
  },
  {
   "cell_type": "code",
   "execution_count": 0,
   "metadata": {
    "application/vnd.databricks.v1+cell": {
     "cellMetadata": {
      "byteLimit": 2048000,
      "rowLimit": 10000
     },
     "inputWidgets": {},
     "nuid": "5381bee7-14a9-486b-9df0-673f51154a2c",
     "showTitle": false,
     "tableResultSettingsMap": {},
     "title": ""
    }
   },
   "outputs": [],
   "source": [
    "-- Real-Life Use Case: Assign bonus based on best-selling products in each order\n",
    "\n",
    "select order_id,product_name,quantity,\n",
    "rank() over ( partition by order_id order by quantity desc) as Ranking\n",
    "\n",
    "from order_details"
   ]
  },
  {
   "cell_type": "code",
   "execution_count": 0,
   "metadata": {
    "application/vnd.databricks.v1+cell": {
     "cellMetadata": {
      "byteLimit": 2048000,
      "rowLimit": 10000
     },
     "inputWidgets": {},
     "nuid": "d425be4b-80c2-495e-8b65-d0ef864e9fd0",
     "showTitle": false,
     "tableResultSettingsMap": {},
     "title": ""
    }
   },
   "outputs": [],
   "source": [
    "--DENSE_RANK() -->RANK WITHOUT GAPS\n",
    "\n",
    "\n",
    "select product_name,quantity, \n",
    "rank() over (order by quantity desc) as Rank,\n",
    "dense_rank() over (order by quantity desc) as Dense_rank\n",
    "from order_details"
   ]
  },
  {
   "cell_type": "code",
   "execution_count": 0,
   "metadata": {
    "application/vnd.databricks.v1+cell": {
     "cellMetadata": {
      "byteLimit": 2048000,
      "rowLimit": 10000
     },
     "inputWidgets": {},
     "nuid": "8076c36e-3119-444c-9951-a761aab540dc",
     "showTitle": false,
     "tableResultSettingsMap": {},
     "title": ""
    }
   },
   "outputs": [],
   "source": [
    "--  Real-Life Use Case: Label product popularity tiers in clean rank buckets\n",
    "\n",
    "select product_name,\n",
    "sum(quantity) as total_quantity,\n",
    "dense_rank() over (order by sum(quantity) desc) as popularity_rank\n",
    "from order_details\n",
    "\n",
    "group by 1"
   ]
  },
  {
   "cell_type": "code",
   "execution_count": 0,
   "metadata": {
    "application/vnd.databricks.v1+cell": {
     "cellMetadata": {
      "byteLimit": 2048000,
      "rowLimit": 10000
     },
     "inputWidgets": {},
     "nuid": "379bdf45-7414-4051-9829-7080f43b1ec1",
     "showTitle": false,
     "tableResultSettingsMap": {},
     "title": ""
    }
   },
   "outputs": [],
   "source": [
    "--LAG() - COMPARE WITH PREVIOUS ROWS\n",
    "\n",
    "select order_id, order_date, \n",
    "lag(order_date) over (order by order_date) as previous_date\n",
    "from orders"
   ]
  },
  {
   "cell_type": "code",
   "execution_count": 0,
   "metadata": {
    "application/vnd.databricks.v1+cell": {
     "cellMetadata": {
      "byteLimit": 2048000,
      "rowLimit": 10000
     },
     "inputWidgets": {},
     "nuid": "2bdaded1-eb1a-4168-b144-7b15c241d6b8",
     "showTitle": false,
     "tableResultSettingsMap": {},
     "title": ""
    }
   },
   "outputs": [],
   "source": [
    "-- Real-Life Use Case: Analyze customer's order trends (Did they buy more/less?)\n",
    "\n",
    "select \n",
    "c.first_name, \n",
    "o.order_id,\n",
    "od.quantity,\n",
    "lag(od.quantity) over (partition by c.customer_id order by o.order_date ) as previous_quantity\n",
    "\n",
    "from customers c \n",
    "join orders o on c.customer_id=o.customer_id\n",
    "join order_details od on o.order_id=od.order_id"
   ]
  },
  {
   "cell_type": "code",
   "execution_count": 0,
   "metadata": {
    "application/vnd.databricks.v1+cell": {
     "cellMetadata": {
      "byteLimit": 2048000,
      "rowLimit": 10000
     },
     "inputWidgets": {},
     "nuid": "9d8dfe49-8a65-4490-8b01-3fadc44c76de",
     "showTitle": false,
     "tableResultSettingsMap": {},
     "title": ""
    }
   },
   "outputs": [],
   "source": [
    "--LEAD() - COMPARE WITH NEXT ROWS\n",
    "\n",
    "select order_id, order_date, \n",
    "lead(order_date) over (order by order_date) as next_date\n",
    "from orders"
   ]
  },
  {
   "cell_type": "code",
   "execution_count": 0,
   "metadata": {
    "application/vnd.databricks.v1+cell": {
     "cellMetadata": {
      "byteLimit": 2048000,
      "rowLimit": 10000
     },
     "inputWidgets": {},
     "nuid": "522f14cd-d395-4015-a0dc-a596651c2dcd",
     "showTitle": false,
     "tableResultSettingsMap": {},
     "title": ""
    }
   },
   "outputs": [],
   "source": [
    "--Real-Life Use Case: Predict what customers might buy next\n",
    "\n",
    "select \n",
    "c.first_name, \n",
    "od.product_name,\n",
    "lead(od.product_name) over (partition by c.customer_id order by o.order_date ) as possible_next_order\n",
    "\n",
    "from customers c \n",
    "join orders o on c.customer_id=o.customer_id\n",
    "join order_details od on o.order_id=od.order_id"
   ]
  },
  {
   "cell_type": "code",
   "execution_count": 0,
   "metadata": {
    "application/vnd.databricks.v1+cell": {
     "cellMetadata": {
      "byteLimit": 2048000,
      "rowLimit": 10000
     },
     "inputWidgets": {},
     "nuid": "a4e6ef5a-ee72-45b6-b3ef-342375532a30",
     "showTitle": false,
     "tableResultSettingsMap": {},
     "title": ""
    }
   },
   "outputs": [],
   "source": [
    "--SUM() ---> RUNNING TOTAL OR Cummulative Sum \n",
    "\n",
    "select order_id,product_name,quantity,\n",
    "sum(quantity) over (order by order_id) as Cummulative_Sum\n",
    "\n",
    "from order_details"
   ]
  },
  {
   "cell_type": "code",
   "execution_count": 0,
   "metadata": {
    "application/vnd.databricks.v1+cell": {
     "cellMetadata": {
      "byteLimit": 2048000,
      "rowLimit": 10000
     },
     "inputWidgets": {},
     "nuid": "859837e5-98df-4d5e-992a-678cf63bc3d3",
     "showTitle": false,
     "tableResultSettingsMap": {},
     "title": ""
    }
   },
   "outputs": [],
   "source": [
    "select * from employees"
   ]
  },
  {
   "cell_type": "code",
   "execution_count": 0,
   "metadata": {
    "application/vnd.databricks.v1+cell": {
     "cellMetadata": {
      "byteLimit": 2048000,
      "rowLimit": 10000
     },
     "inputWidgets": {},
     "nuid": "16c93ad1-9b06-4bed-b155-dc3c90810779",
     "showTitle": false,
     "tableResultSettingsMap": {},
     "title": ""
    }
   },
   "outputs": [],
   "source": [
    "select first_name, department, salary,\n",
    "sum(salary) over (order by emp_id) as running_total\n",
    "from employees\n"
   ]
  }
 ],
 "metadata": {
  "application/vnd.databricks.v1+notebook": {
   "computePreferences": null,
   "dashboards": [],
   "environmentMetadata": {
    "base_environment": "",
    "environment_version": "2"
   },
   "inputWidgetPreferences": null,
   "language": "sql",
   "notebookMetadata": {
    "pythonIndentUnit": 4
   },
   "notebookName": "Class 5",
   "widgets": {}
  },
  "language_info": {
   "name": "sql"
  }
 },
 "nbformat": 4,
 "nbformat_minor": 0
}
