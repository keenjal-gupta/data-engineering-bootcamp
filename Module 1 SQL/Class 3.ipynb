{
 "cells": [
  {
   "cell_type": "code",
   "execution_count": 0,
   "metadata": {
    "application/vnd.databricks.v1+cell": {
     "cellMetadata": {
      "byteLimit": 2048000,
      "rowLimit": 10000
     },
     "inputWidgets": {},
     "nuid": "3e65e7c6-4f1f-46eb-bc4f-bf1574271f6a",
     "showTitle": false,
     "tableResultSettingsMap": {},
     "title": ""
    }
   },
   "outputs": [],
   "source": [
    "CREATE TABLE customers (\n",
    "    customer_id INT ,\n",
    "    first_name VARCHAR(50),\n",
    "    last_name VARCHAR(50),\n",
    "    city VARCHAR(50),\n",
    "    email VARCHAR(100)\n",
    ");\n"
   ]
  },
  {
   "cell_type": "code",
   "execution_count": 0,
   "metadata": {
    "application/vnd.databricks.v1+cell": {
     "cellMetadata": {
      "byteLimit": 2048000,
      "rowLimit": 10000
     },
     "inputWidgets": {},
     "nuid": "d663eec8-520e-4230-9243-a9d0c102e124",
     "showTitle": false,
     "tableResultSettingsMap": {},
     "title": ""
    }
   },
   "outputs": [],
   "source": [
    "\n",
    "CREATE TABLE orders (\n",
    "    order_id INT ,\n",
    "    customer_id INT,\n",
    "    order_date DATE,\n",
    "    total_amount DECIMAL(10, 2)\n",
    ");\n"
   ]
  },
  {
   "cell_type": "code",
   "execution_count": 0,
   "metadata": {
    "application/vnd.databricks.v1+cell": {
     "cellMetadata": {
      "byteLimit": 2048000,
      "rowLimit": 10000
     },
     "inputWidgets": {},
     "nuid": "4b7892eb-2481-4271-ae87-d14986a1bb9f",
     "showTitle": false,
     "tableResultSettingsMap": {},
     "title": ""
    }
   },
   "outputs": [],
   "source": [
    "CREATE TABLE order_details (\n",
    "    order_detail_id INT ,\n",
    "    order_id INT,\n",
    "    customer_id INT,\n",
    "    product_id INT,\n",
    "    product_name VARCHAR(100),\n",
    "    category VARCHAR(50),\n",
    "    quantity INT,\n",
    "    price_each DECIMAL(10,2),\n",
    "    order_date DATE\n",
    ");"
   ]
  },
  {
   "cell_type": "code",
   "execution_count": 0,
   "metadata": {
    "application/vnd.databricks.v1+cell": {
     "cellMetadata": {
      "byteLimit": 2048000,
      "rowLimit": 10000
     },
     "inputWidgets": {},
     "nuid": "2670909e-7a41-4a1d-8bca-89ae0af441a2",
     "showTitle": false,
     "tableResultSettingsMap": {},
     "title": ""
    }
   },
   "outputs": [],
   "source": [
    "INSERT INTO customers VALUES\n",
    "(1, 'John', 'Doe', 'Delhi', 'john.doe@example.com'),\n",
    "(2, 'Jane', 'Smith', 'Mumbai', 'jane.smith@example.com'),\n",
    "(3, 'Raj', 'Kumar', 'Bangalore', 'raj.kumar@example.com'),\n",
    "(4, 'Priya', 'Sharma', 'Hyderabad', 'priya.sharma@example.com'),\n",
    "(5, 'Tom', 'Brown', 'Pune', 'tom.brown@example.com'),\n",
    "(6, 'Sara', 'Ali', 'Chennai', 'sara.ali@example.com'),\n",
    "(7, 'Vikram', 'Singh', 'Delhi', 'vikram.singh@example.com'),\n",
    "(8, 'Neha', 'Patel', 'Mumbai', 'neha.patel@example.com'),\n",
    "(9, 'David', 'Lee', 'Kolkata', 'david.lee@example.com'),\n",
    "(10, 'Amit', 'Verma', 'Jaipur', 'amit.verma@example.com'),\n",
    "(11, 'Emily', 'Clark', 'Delhi', 'emily.clark@example.com'),\n",
    "(12, 'Ananya', 'Roy', 'Mumbai', 'ananya.roy@example.com'),\n",
    "(13, 'Sam', 'Wilson', 'Pune', 'sam.wilson@example.com'),\n",
    "(14, 'Pooja', 'Das', 'Hyderabad', 'pooja.das@example.com'),\n",
    "(15, 'Arjun', 'Nair', 'Chennai', 'arjun.nair@example.com'),\n",
    "(16, 'Kavita', 'Gupta', 'Bangalore', 'kavita.gupta@example.com'),\n",
    "(17, 'Robert', 'King', 'Delhi', 'robert.king@example.com'),\n",
    "(18, 'Meera', 'Joshi', 'Mumbai', 'meera.joshi@example.com'),\n",
    "(19, 'Michael', 'Scott', 'Kolkata', 'michael.scott@example.com'),\n",
    "(20, 'Ravi', 'Menon', 'Pune', 'ravi.menon@example.com'),\n",
    "(21, 'Tina', 'Fernandez', 'Delhi', 'tina.fernandez@example.com'),\n",
    "(22, 'Arvind', 'Singh', 'Hyderabad', 'arvind.singh@example.com'),\n",
    "(23, 'Lucy', 'Adams', 'Chennai', 'lucy.adams@example.com'),\n",
    "(24, 'Karan', 'Malhotra', 'Mumbai', 'karan.malhotra@example.com'),\n",
    "(25, 'Sneha', 'Reddy', 'Pune', 'sneha.reddy@example.com'),\n",
    "(26, 'George', 'Mason', 'Bangalore', 'george.mason@example.com'),\n",
    "(27, 'Vishal', 'Kapoor', 'Kolkata', 'vishal.kapoor@example.com'),\n",
    "(28, 'Emma', 'Watson', 'Delhi', 'emma.watson@example.com'),\n",
    "(29, 'Siddharth', 'Jain', 'Hyderabad', 'siddharth.jain@example.com'),\n",
    "(30, 'Olivia', 'Brown', 'Chennai', 'olivia.brown@example.com'),\n",
    "(31, 'Nikhil', 'Arora', 'Mumbai', 'nikhil.arora@example.com'),\n",
    "(32, 'Ayesha', 'Khan', 'Delhi', 'ayesha.khan@example.com'),\n",
    "(33, 'Chris', 'Evans', 'Bangalore', 'chris.evans@example.com'),\n",
    "(34, 'Ishita', 'Bhatt', 'Kolkata', 'ishita.bhatt@example.com'),\n",
    "(35, 'Shyam', 'Patil', 'Pune', 'shyam.patil@example.com'),\n",
    "(36, 'Sophia', 'Green', 'Chennai', 'sophia.green@example.com'),\n",
    "(37, 'Harsh', 'Aggarwal', 'Hyderabad', 'harsh.aggarwal@example.com'),\n",
    "(38, 'Liam', 'Martin', 'Delhi', 'liam.martin@example.com'),\n",
    "(39, 'Diya', 'Saxena', 'Mumbai', 'diya.saxena@example.com'),\n",
    "(40, 'Jason', 'Taylor', 'Kolkata', 'jason.taylor@example.com'),\n",
    "(41, 'Ritika', 'Mehra', 'Pune', 'ritika.mehra@example.com'),\n",
    "(42, 'Steve', 'Jobs', 'Bangalore', 'steve.jobs@example.com'),\n",
    "(43, 'Alisha', 'Paul', 'Hyderabad', 'alisha.paul@example.com'),\n",
    "(44, 'Dhruv', 'Singhania', 'Chennai', 'dhruv.singhania@example.com'),\n",
    "(45, 'Rebecca', 'Lewis', 'Delhi', 'rebecca.lewis@example.com'),\n",
    "(46, 'Naveen', 'Shetty', 'Mumbai', 'naveen.shetty@example.com'),\n",
    "(47, 'Julia', 'Roberts', 'Pune', 'julia.roberts@example.com'),\n",
    "(48, 'Parth', 'Desai', 'Hyderabad', 'parth.desai@example.com'),\n",
    "(49, 'Nina', 'Shah', 'Chennai', 'nina.shah@example.com'),\n",
    "(50, 'Aria', 'Gill', 'Bangalore', 'aria.gill@example.com');"
   ]
  },
  {
   "cell_type": "code",
   "execution_count": 0,
   "metadata": {
    "application/vnd.databricks.v1+cell": {
     "cellMetadata": {
      "byteLimit": 2048000,
      "rowLimit": 10000
     },
     "inputWidgets": {},
     "nuid": "ba1f4474-b443-471f-a795-0d6287fdaf49",
     "showTitle": false,
     "tableResultSettingsMap": {},
     "title": ""
    }
   },
   "outputs": [],
   "source": [
    "INSERT INTO orders VALUES\n",
    "(1001, 1, '2023-01-10', 1500.00),\n",
    "(1002, 2, '2023-01-11', 2500.00),\n",
    "(1003, 3, '2023-01-15', 500.00),\n",
    "(1004, 1, '2023-02-01', 750.00),\n",
    "(1005, 4, '2023-02-05', 2000.00),\n",
    "(1006, 5, '2023-02-08', 1800.00),\n",
    "(1007, 6, '2023-03-01', 2200.00),\n",
    "(1008, 7, '2023-03-05', 3000.00),\n",
    "(1009, 8, '2023-03-09', 1200.00),\n",
    "(1010, 9, '2023-03-10', 900.00),\n",
    "(1011, 10, '2023-03-12', 1900.00),\n",
    "(1012, 11, '2023-03-15', 1500.00),\n",
    "(1013, 12, '2023-03-18', 2400.00),\n",
    "(1014, 13, '2023-03-20', 600.00),\n",
    "(1015, 14, '2023-03-22', 3000.00),\n",
    "(1016, 15, '2023-03-25', 2800.00),\n",
    "(1017, 16, '2023-03-28', 3200.00),\n",
    "(1018, 17, '2023-03-30', 500.00),\n",
    "(1019, 18, '2023-04-01', 950.00),\n",
    "(1020, 19, '2023-04-03', 1750.00),\n",
    "(1021, 20, '2023-04-05', 2100.00),\n",
    "(1022, 21, '2023-04-08', 1200.00),\n",
    "(1023, 22, '2023-04-10', 1400.00),\n",
    "(1024, 23, '2023-04-12', 800.00),\n",
    "(1025, 24, '2023-04-14', 3300.00),\n",
    "(1026, 25, '2023-04-16', 2400.00),\n",
    "(1027, 26, '2023-04-18', 1800.00),\n",
    "(1028, 27, '2023-04-20', 2000.00),\n",
    "(1029, 28, '2023-04-22', 2200.00),\n",
    "(1030, 29, '2023-04-24', 1950.00),\n",
    "(1031, 30, '2023-04-26', 2600.00),\n",
    "(1032, 31, '2023-04-28', 1550.00),\n",
    "(1033, 32, '2023-05-01', 2700.00),\n",
    "(1034, 33, '2023-05-03', 1000.00),\n",
    "(1035, 34, '2023-05-05', 1900.00),\n",
    "(1036, 35, '2023-05-07', 2100.00),\n",
    "(1037, 36, '2023-05-09', 1100.00),\n",
    "(1038, 37, '2023-05-11', 1250.00),\n",
    "(1039, 38, '2023-05-13', 1850.00),\n",
    "(1040, 39, '2023-05-15', 1400.00),\n",
    "(1041, 40, '2023-05-17', 1750.00),\n",
    "(1042, 41, '2023-05-19', 900.00),\n",
    "(1043, 42, '2023-05-21', 2500.00),\n",
    "(1044, 43, '2023-05-23', 3000.00),\n",
    "(1045, 44, '2023-05-25', 2100.00),\n",
    "(1046, 45, '2023-05-27', 2600.00),\n",
    "(1047, 46, '2023-05-29', 2700.00),\n",
    "(1048, 47, '2023-05-31', 2800.00),\n",
    "(1049, 48, '2023-06-02', 1500.00),\n",
    "(1050, 49, '2023-06-04', 1200.00),\n",
    "(1051, 50, '2023-06-06', 800.00),\n",
    "(1052, 1, '2023-06-08', 2000.00),\n",
    "(1053, 2, '2023-06-10', 2300.00),\n",
    "(1054, 3, '2023-06-12', 1400.00),\n",
    "(1055, 4, '2023-06-14', 1750.00),\n",
    "(1056, 5, '2023-06-16', 2600.00),\n",
    "(1057, 6, '2023-06-18', 2100.00),\n",
    "(1058, 7, '2023-06-20', 900.00),\n",
    "(1059, 8, '2023-06-22', 3000.00),\n",
    "(1060, 9, '2023-06-24', 1200.00),\n",
    "(1061, 10, '2023-06-26', 1850.00),\n",
    "(1062, 11, '2023-06-28', 1750.00),\n",
    "(1063, 12, '2023-06-30', 1600.00),\n",
    "(1064, 13, '2023-07-02', 950.00),\n",
    "(1065, 14, '2023-07-04', 2100.00),\n",
    "(1066, 15, '2023-07-06', 2500.00),\n",
    "(1067, 16, '2023-07-08', 3000.00),\n",
    "(1068, 17, '2023-07-10', 2700.00),\n",
    "(1069, 18, '2023-07-12', 1500.00),\n",
    "(1070, 19, '2023-07-14', 1400.00);\n"
   ]
  },
  {
   "cell_type": "code",
   "execution_count": 0,
   "metadata": {
    "application/vnd.databricks.v1+cell": {
     "cellMetadata": {
      "byteLimit": 2048000,
      "rowLimit": 10000
     },
     "inputWidgets": {},
     "nuid": "24b55135-b5b4-42dd-9d3e-a152f71cb136",
     "showTitle": false,
     "tableResultSettingsMap": {},
     "title": ""
    }
   },
   "outputs": [],
   "source": [
    "INSERT INTO order_details VALUES\n",
    "(1, 1001, 1, 201, 'Laptop', 'Electronics', 1, 50000.00, '2023-01-10'),\n",
    "(2, 1001, 1, 203, 'Headphones', 'Accessories', 2, 2000.00, '2023-01-10'),\n",
    "(3, 1002, 2, 202, 'Smartphone', 'Electronics', 1, 30000.00, '2023-01-11'),\n",
    "(4, 1003, 3, 205, 'Water Bottle', 'Kitchen', 3, 500.00, '2023-01-15'),\n",
    "(5, 1004, 1, 208, 'Bluetooth Speaker', 'Electronics', 1, 3500.00, '2023-02-01'),\n",
    "(6, 1005, 4, 204, 'Desk Chair', 'Furniture', 1, 4000.00, '2023-02-05'),\n",
    "(7, 1006, 5, 207, 'Office Desk', 'Furniture', 1, 7000.00, '2023-02-08'),\n",
    "(8, 1007, 6, 211, 'Tablet', 'Electronics', 2, 25000.00, '2023-03-01'),\n",
    "(9, 1008, 7, 215, 'Gaming Chair', 'Furniture', 1, 15000.00, '2023-03-05'),\n",
    "(10, 1009, 8, 209, 'Notebook', 'Stationery', 5, 200.00, '2023-03-09');\n"
   ]
  },
  {
   "cell_type": "code",
   "execution_count": 0,
   "metadata": {
    "application/vnd.databricks.v1+cell": {
     "cellMetadata": {
      "byteLimit": 2048000,
      "rowLimit": 10000
     },
     "inputWidgets": {},
     "nuid": "603ea620-8040-40dd-9863-1f00794f88c5",
     "showTitle": false,
     "tableResultSettingsMap": {},
     "title": ""
    }
   },
   "outputs": [],
   "source": [
    "--List all the customer orders with product details \n",
    "--INNER JOIN\n",
    "\n",
    "select c.customer_id, c.first_name, c.last_name, o.order_id, o.product_name, o.quantity\n",
    "from customers as c inner join order_details as o on c.customer_id = o.customer_id"
   ]
  },
  {
   "cell_type": "code",
   "execution_count": 0,
   "metadata": {
    "application/vnd.databricks.v1+cell": {
     "cellMetadata": {
      "byteLimit": 2048000,
      "rowLimit": 10000
     },
     "inputWidgets": {},
     "nuid": "2cd62ff3-cfa3-4065-8688-bcacacf10dbc",
     "showTitle": false,
     "tableResultSettingsMap": {},
     "title": ""
    }
   },
   "outputs": [],
   "source": [
    "--Full Breakdown : customers,order, product_info\n",
    "\n",
    "select c.customer_id,c.first_name, o.order_id, od.product_name, od.quantity, od.price_each\n",
    "from order_details as od\n",
    "inner join orders as o on od.order_id=o.order_id\n",
    "inner join customers as c on c.customer_id=o.customer_id"
   ]
  },
  {
   "cell_type": "code",
   "execution_count": 0,
   "metadata": {
    "application/vnd.databricks.v1+cell": {
     "cellMetadata": {
      "byteLimit": 2048000,
      "rowLimit": 10000
     },
     "inputWidgets": {},
     "nuid": "28c3d83c-0e5d-4067-93a2-3d993af6e396",
     "showTitle": false,
     "tableResultSettingsMap": {},
     "title": ""
    }
   },
   "outputs": [],
   "source": [
    "--show inactive and active customers \n",
    "\n",
    "select c.first_name, c.last_name, o.order_id, o.order_date\n",
    "from customers as c \n",
    "left join orders as o on c.customer_id= o.customer_id"
   ]
  },
  {
   "cell_type": "code",
   "execution_count": 0,
   "metadata": {
    "application/vnd.databricks.v1+cell": {
     "cellMetadata": {
      "byteLimit": 2048000,
      "rowLimit": 10000
     },
     "inputWidgets": {},
     "nuid": "828065ec-f16d-4505-85eb-625811cc8878",
     "showTitle": false,
     "tableResultSettingsMap": {},
     "title": ""
    }
   },
   "outputs": [],
   "source": [
    "--Idenify the Customers who has not palced any order and followup with them \n",
    "\n",
    "select c.customer_id, c.first_name, c.last_name, c.email\n",
    "from customers as c\n",
    "left join orders as o on c.customer_id= o.customer_id\n",
    "where o.order_id is null"
   ]
  },
  {
   "cell_type": "code",
   "execution_count": 0,
   "metadata": {
    "application/vnd.databricks.v1+cell": {
     "cellMetadata": {
      "byteLimit": 2048000,
      "rowLimit": 10000
     },
     "inputWidgets": {},
     "nuid": "0e795a1c-b68e-42e1-9287-9741aa4d1a89",
     "showTitle": false,
     "tableResultSettingsMap": {},
     "title": ""
    }
   },
   "outputs": [],
   "source": [
    "--show inactive and active customers \n",
    "SELECT \n",
    "c.first_name,c.last_name,o.order_id,o.order_date\n",
    " FROM ORDERS as o \n",
    " RIGHT JOIN CUSTOMERS c ON c.customer_id=o.customer_id\n",
    "     "
   ]
  },
  {
   "cell_type": "code",
   "execution_count": 0,
   "metadata": {
    "application/vnd.databricks.v1+cell": {
     "cellMetadata": {
      "byteLimit": 2048000,
      "rowLimit": 10000
     },
     "inputWidgets": {},
     "nuid": "0eee5ba9-a488-4037-b4d3-78f3d03f17f9",
     "showTitle": false,
     "tableResultSettingsMap": {},
     "title": ""
    }
   },
   "outputs": [],
   "source": [
    "-- Only shows customers who HAVE orders.\n",
    "\n",
    "SELECT c.customer_id, c.first_name, o.order_id, o.order_date\n",
    "FROM customers c\n",
    "INNER JOIN orders o ON c.customer_id = o.customer_id;"
   ]
  },
  {
   "cell_type": "code",
   "execution_count": 0,
   "metadata": {
    "application/vnd.databricks.v1+cell": {
     "cellMetadata": {
      "byteLimit": 2048000,
      "rowLimit": 10000
     },
     "inputWidgets": {},
     "nuid": "76612079-0961-4ec8-9214-dbdec37350f8",
     "showTitle": false,
     "tableResultSettingsMap": {},
     "title": ""
    }
   },
   "outputs": [],
   "source": [
    "-- ✅ Shows ALL customers, whether or not they have orders.\n",
    "\n",
    "SELECT c.customer_id, c.first_name, o.order_id, o.order_date\n",
    "FROM customers c\n",
    "LEFT JOIN orders o ON c.customer_id = o.customer_id;\n"
   ]
  },
  {
   "cell_type": "code",
   "execution_count": 0,
   "metadata": {
    "application/vnd.databricks.v1+cell": {
     "cellMetadata": {
      "byteLimit": 2048000,
      "rowLimit": 10000
     },
     "inputWidgets": {},
     "nuid": "ec9dbf64-ab0b-4407-9a9f-6147ffcc76fc",
     "showTitle": false,
     "tableResultSettingsMap": {},
     "title": ""
    }
   },
   "outputs": [],
   "source": [
    "SELECT o.order_id, o.order_date, c.customer_id, c.first_name\n",
    "FROM orders o\n",
    "RIGHT JOIN customers c ON o.customer_id = c.customer_id;\n",
    "\n",
    "     "
   ]
  },
  {
   "cell_type": "code",
   "execution_count": 0,
   "metadata": {
    "application/vnd.databricks.v1+cell": {
     "cellMetadata": {
      "byteLimit": 2048000,
      "rowLimit": 10000
     },
     "inputWidgets": {},
     "nuid": "d70b679d-6a26-4d13-a57c-509bb7c513f3",
     "showTitle": false,
     "tableResultSettingsMap": {},
     "title": ""
    }
   },
   "outputs": [],
   "source": [
    "CREATE TABLE emp (\n",
    "    emp_id INT ,\n",
    "    first_name VARCHAR(50),\n",
    "    last_name VARCHAR(50),\n",
    "    manager_id INT,\n",
    "    department VARCHAR(50)\n",
    ");\n"
   ]
  },
  {
   "cell_type": "code",
   "execution_count": 0,
   "metadata": {
    "application/vnd.databricks.v1+cell": {
     "cellMetadata": {
      "byteLimit": 2048000,
      "rowLimit": 10000
     },
     "inputWidgets": {},
     "nuid": "606c9348-8a9c-47b8-928f-2df89152b7b9",
     "showTitle": false,
     "tableResultSettingsMap": {},
     "title": ""
    }
   },
   "outputs": [],
   "source": [
    "INSERT INTO emp VALUES\n",
    "(1, 'Alice', 'Johnson', NULL, 'Management'),\n",
    "(2, 'Bob', 'Smith', 1, 'Sales'),\n",
    "(3, 'Carol', 'Taylor', 1, 'Sales'),\n",
    "(4, 'David', 'Brown', 2, 'Sales'),\n",
    "(5, 'Eva', 'Davis', 2, 'Sales'),\n",
    "(6, 'Frank', 'Miller', 1, 'Engineering'),\n",
    "(7, 'Grace', 'Wilson', 6, 'Engineering'),\n",
    "(8, 'Henry', 'Moore', 6, 'Engineering'),\n",
    "(9, 'Ivy', 'Clark', 3, 'Sales'),\n",
    "(10, 'Jack', 'Hall', 3, 'Sales');"
   ]
  },
  {
   "cell_type": "code",
   "execution_count": 0,
   "metadata": {
    "application/vnd.databricks.v1+cell": {
     "cellMetadata": {
      "byteLimit": 2048000,
      "rowLimit": 10000
     },
     "inputWidgets": {},
     "nuid": "374f40e1-b841-428c-893f-860b632905d8",
     "showTitle": false,
     "tableResultSettingsMap": {},
     "title": ""
    }
   },
   "outputs": [],
   "source": [
    "-- Employee + Their Manager\n",
    "\n",
    "select distinct e1.first_name as employee, e2.first_name as manager, e1.department\n",
    "from emp e1\n",
    "left join emp e2 on e1.manager_id = e2.emp_id"
   ]
  },
  {
   "cell_type": "code",
   "execution_count": 0,
   "metadata": {
    "application/vnd.databricks.v1+cell": {
     "cellMetadata": {
      "byteLimit": 2048000,
      "rowLimit": 10000
     },
     "inputWidgets": {},
     "nuid": "e0cfcd2c-9acd-4544-aab5-85b87d887993",
     "showTitle": false,
     "tableResultSettingsMap": {},
     "title": ""
    }
   },
   "outputs": [],
   "source": [
    "--Find Direct Reporting Managers counts\n",
    "\n",
    "SELECT e2.first_name AS manager, COUNT(e1.emp_id) AS team_size\n",
    "FROM emp e1\n",
    "INNER JOIN emp e2 ON e1.manager_id = e2.emp_id\n",
    "GROUP BY e2.first_name;\n"
   ]
  },
  {
   "cell_type": "code",
   "execution_count": 0,
   "metadata": {
    "application/vnd.databricks.v1+cell": {
     "cellMetadata": {
      "byteLimit": 2048000,
      "rowLimit": 10000
     },
     "inputWidgets": {},
     "nuid": "59d8b4d3-5207-436c-a4e9-199db142eaf5",
     "showTitle": false,
     "tableResultSettingsMap": {},
     "title": ""
    }
   },
   "outputs": [],
   "source": [
    "--  Full audit of customers + orders (matched or not).\n",
    " SELECT c.first_name, o.order_id, od.product_name\n",
    "FROM customers c\n",
    "FULL OUTER JOIN orders o ON c.customer_id = o.customer_id\n",
    "FULL OUTER JOIN order_details od ON o.order_id = od.order_id;"
   ]
  },
  {
   "cell_type": "code",
   "execution_count": 0,
   "metadata": {
    "application/vnd.databricks.v1+cell": {
     "cellMetadata": {
      "byteLimit": 2048000,
      "rowLimit": 10000
     },
     "inputWidgets": {},
     "nuid": "7eed7bff-c77c-4824-a922-10d0e4610356",
     "showTitle": false,
     "tableResultSettingsMap": {},
     "title": ""
    }
   },
   "outputs": [],
   "source": [
    "-- Get list of all unique customer cities + unique product categories.\n",
    "\n",
    "SELECT DISTINCT city AS item FROM customers\n",
    "UNION\n",
    "SELECT DISTINCT category FROM order_details;"
   ]
  },
  {
   "cell_type": "code",
   "execution_count": 0,
   "metadata": {
    "application/vnd.databricks.v1+cell": {
     "cellMetadata": {
      "byteLimit": 2048000,
      "rowLimit": 10000
     },
     "inputWidgets": {},
     "nuid": "9fd26238-8d9c-42f5-bde4-26e29abb659e",
     "showTitle": false,
     "tableResultSettingsMap": {},
     "title": ""
    }
   },
   "outputs": [],
   "source": [
    "-- Get list of all unique customer cities + unique product categories.(WITH DUPLICATES)\n",
    "\n",
    "SELECT DISTINCT city AS item FROM customers\n",
    "UNION ALL \n",
    "SELECT DISTINCT category FROM order_details;\n"
   ]
  },
  {
   "cell_type": "code",
   "execution_count": 0,
   "metadata": {
    "application/vnd.databricks.v1+cell": {
     "cellMetadata": {
      "byteLimit": 2048000,
      "rowLimit": 10000
     },
     "inputWidgets": {},
     "nuid": "892ff087-ef28-4344-85d8-bc87cc0c948a",
     "showTitle": false,
     "tableResultSettingsMap": {},
     "title": ""
    }
   },
   "outputs": [],
   "source": [
    "-- Top 3 Customers by Spend\n",
    "SELECT \n",
    "c.first_name, c.last_name, SUM(od.quantity * od.price_each) AS total_spent\n",
    "FROM customers c \n",
    "INNER JOIN orders o ON c.customer_id = o.customer_id\n",
    "INNER JOIN Order_details od on o.order_id = od.order_id\n",
    "GROUP BY c.customer_id,c.first_name, c.last_name\n",
    "ORDER BY total_spent DESC\n",
    "LIMIT 3\n"
   ]
  }
 ],
 "metadata": {
  "application/vnd.databricks.v1+notebook": {
   "computePreferences": null,
   "dashboards": [],
   "environmentMetadata": {
    "base_environment": "",
    "environment_version": "2"
   },
   "inputWidgetPreferences": null,
   "language": "sql",
   "notebookMetadata": {
    "pythonIndentUnit": 4
   },
   "notebookName": "Class 3",
   "widgets": {}
  },
  "language_info": {
   "name": "sql"
  }
 },
 "nbformat": 4,
 "nbformat_minor": 0
}
