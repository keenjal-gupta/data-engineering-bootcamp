{
 "cells": [
  {
   "cell_type": "code",
   "execution_count": 0,
   "metadata": {
    "application/vnd.databricks.v1+cell": {
     "cellMetadata": {
      "byteLimit": 2048000,
      "rowLimit": 10000
     },
     "inputWidgets": {},
     "nuid": "c2d0b6f2-3363-4a90-9d1c-71ec3f0aba4f",
     "showTitle": false,
     "tableResultSettingsMap": {},
     "title": ""
    }
   },
   "outputs": [],
   "source": [
    "select * from employee_sales"
   ]
  },
  {
   "cell_type": "code",
   "execution_count": 0,
   "metadata": {
    "application/vnd.databricks.v1+cell": {
     "cellMetadata": {
      "byteLimit": 2048000,
      "rowLimit": 10000
     },
     "inputWidgets": {},
     "nuid": "f9a7bd05-c9e5-4e39-b3a2-1ebf746965b0",
     "showTitle": false,
     "tableResultSettingsMap": {},
     "title": ""
    }
   },
   "outputs": [],
   "source": [
    "-- 1. Use a window function to assign a rank of employees by sale_amount within each department.\n",
    "\n",
    "select *,\n",
    "rank() over(partition by dept order by sale_amount) as rank\n",
    "from employee_sales\n"
   ]
  },
  {
   "cell_type": "code",
   "execution_count": 0,
   "metadata": {
    "application/vnd.databricks.v1+cell": {
     "cellMetadata": {
      "byteLimit": 2048000,
      "rowLimit": 10000
     },
     "inputWidgets": {},
     "nuid": "40ccfc67-dd1b-4933-8133-f8784654ed89",
     "showTitle": false,
     "tableResultSettingsMap": {},
     "title": ""
    }
   },
   "outputs": [],
   "source": [
    "-- 2. Find the running total of sales for each employee.\n",
    "\n",
    "select *,\n",
    "sum(sale_amount) over (partition by emp_id order by sale_date) as running_total\n",
    "from employee_sales\n"
   ]
  },
  {
   "cell_type": "code",
   "execution_count": 0,
   "metadata": {
    "application/vnd.databricks.v1+cell": {
     "cellMetadata": {
      "byteLimit": 2048000,
      "rowLimit": 10000
     },
     "inputWidgets": {},
     "nuid": "89186966-2250-4e1b-86db-75cc4b14a6d8",
     "showTitle": false,
     "tableResultSettingsMap": {},
     "title": ""
    }
   },
   "outputs": [],
   "source": [
    "-- 3. Optimize a query (only necessary columns + filters before aggregation).\n",
    "--find total sales per employee after 2023-10-01.\n",
    "\n",
    "select emp_id, sum(sale_amount)as total_sales\n",
    "from employee_sales\n",
    "where sale_date >= '2023-10-01'\n",
    "group by 1"
   ]
  },
  {
   "cell_type": "code",
   "execution_count": 0,
   "metadata": {
    "application/vnd.databricks.v1+cell": {
     "cellMetadata": {
      "byteLimit": 2048000,
      "rowLimit": 10000
     },
     "inputWidgets": {},
     "nuid": "995ca675-e8db-4c5a-af1a-3ee3e2d53ff2",
     "showTitle": false,
     "tableResultSettingsMap": {},
     "title": ""
    }
   },
   "outputs": [],
   "source": [
    "-- 4. How indexing helps with 10 million rows.\n",
    "\n",
    "--Index on (dept, sale_amount) → speeds up ranking by department.\n",
    "\n",
    "--Index on (emp_id, sale_date) → speeds up running totals and filtering by date.\n",
    "\n",
    "--Prevents full table scans, improving query performance drastically."
   ]
  }
 ],
 "metadata": {
  "application/vnd.databricks.v1+notebook": {
   "computePreferences": null,
   "dashboards": [],
   "environmentMetadata": {
    "base_environment": "",
    "environment_version": "2"
   },
   "inputWidgetPreferences": null,
   "language": "sql",
   "notebookMetadata": {},
   "notebookName": "assignment 3",
   "widgets": {}
  },
  "language_info": {
   "name": "sql"
  }
 },
 "nbformat": 4,
 "nbformat_minor": 0
}
